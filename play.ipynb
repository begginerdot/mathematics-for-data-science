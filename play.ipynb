{
  "nbformat": 4,
  "nbformat_minor": 0,
  "metadata": {
    "colab": {
      "name": "play.ipynb",
      "provenance": [],
      "collapsed_sections": []
    },
    "kernelspec": {
      "display_name": "Python 3",
      "name": "python3"
    },
    "language_info": {
      "name": "python"
    }
  },
  "cells": [
    {
      "cell_type": "code",
      "metadata": {
        "colab": {
          "base_uri": "https://localhost:8080/"
        },
        "id": "MD3qSVpxtPun",
        "outputId": "5119cf9e-5e9d-4982-f557-5a8f70aa679f"
      },
      "source": [
        "print(cp.installed_solvers())"
      ],
      "execution_count": null,
      "outputs": [
        {
          "name": "stdout",
          "output_type": "stream",
          "text": [
            "['CVXOPT', 'ECOS', 'ECOS_BB', 'GLPK', 'GLPK_MI', 'OSQP', 'SCS']\n"
          ]
        }
      ]
    },
    {
      "cell_type": "code",
      "metadata": {
        "colab": {
          "base_uri": "https://localhost:8080/"
        },
        "id": "hxJ7bul1hhFp",
        "outputId": "0974817e-a0b0-462e-eddb-ce2cf4572cc8"
      },
      "source": [
        "import cvxpy as cp\n",
        "import numpy as np\n",
        "import osqp\n",
        "# import dccp\n",
        "\n",
        "C = np.load('/content/drive/MyDrive/mfds/Data For Assignment/C.npy').astype(np.float64)\n",
        "y = np.load('/content/drive/MyDrive/mfds/Data For Assignment/y.npy').astype(np.int64)\n",
        "y = np.squeeze(y)\n",
        "A_inv = np.load('/content/drive/MyDrive/mfds/Data For Assignment/A_inv.npy').astype(np.float64)\n",
        "C.shape, y.shape, A_inv.shape"
      ],
      "execution_count": null,
      "outputs": [
        {
          "output_type": "execute_result",
          "data": {
            "text/plain": [
              "((479, 1595), (479,), (1595, 1595))"
            ]
          },
          "metadata": {},
          "execution_count": 17
        }
      ]
    },
    {
      "cell_type": "code",
      "metadata": {
        "colab": {
          "base_uri": "https://localhost:8080/"
        },
        "id": "WR6AsP5z_S-z",
        "outputId": "9c1f13b1-44de-4ed6-ac73-455f08a8aa5c"
      },
      "source": [
        "s = cp.Variable(C.shape[1])\n",
        "print(s.shape)\n",
        "# np.linalg.norm(s)#, ord = 1)sum(abs(s)),[y == C@s])#\n",
        "prob = cp.Problem(cp.Minimize(cp.norm(s,1)),[y == C@s])#,[cp.norm(y - C@s, 2) == 0])\n",
        "# dccp.is_dccp(prob)\n",
        "result = prob.solve(solver=cp.OSQP)\n",
        "print(s.value)"
      ],
      "execution_count": null,
      "outputs": [
        {
          "output_type": "stream",
          "name": "stdout",
          "text": [
            "(1595,)\n",
            "[ 7.79053490e+02 -1.00801193e+02 -7.43254272e+02 ...  4.53813097e-03\n",
            "  4.99444647e-03 -1.04948874e-02]\n"
          ]
        }
      ]
    },
    {
      "cell_type": "code",
      "metadata": {
        "id": "QEW_kzWxASwI"
      },
      "source": [
        "np.save('/content/drive/MyDrive/mfds/Data For Assignment/s.npy', s.value)"
      ],
      "execution_count": null,
      "outputs": []
    },
    {
      "cell_type": "code",
      "metadata": {
        "colab": {
          "base_uri": "https://localhost:8080/"
        },
        "id": "42ebFJCpHoAg",
        "outputId": "d2465f55-0627-4a90-f6b0-585d0a1a8e63"
      },
      "source": [
        "# type(s)\n",
        "# a = s.value\n",
        "# type(a)\n",
        "s.value = \n",
        "C.dtype"
      ],
      "execution_count": null,
      "outputs": [
        {
          "output_type": "execute_result",
          "data": {
            "text/plain": [
              "dtype('float64')"
            ]
          },
          "metadata": {},
          "execution_count": 44
        }
      ]
    },
    {
      "cell_type": "code",
      "metadata": {
        "id": "ryCea8YJBV__"
      },
      "source": [
        "# A_inv = A_inv.astype(float64)\n",
        "# A = np.linalg.inv(A_inv)\n",
        "x = A_inv@s.value\n",
        "# A.shape"
      ],
      "execution_count": null,
      "outputs": []
    },
    {
      "cell_type": "code",
      "metadata": {
        "id": "eAVbptACVHaB"
      },
      "source": [
        "np.save('/content/drive/MyDrive/mfds/x',x)"
      ],
      "execution_count": null,
      "outputs": []
    },
    {
      "cell_type": "code",
      "metadata": {
        "colab": {
          "base_uri": "https://localhost:8080/",
          "height": 260
        },
        "id": "xks0_yUbVWB0",
        "outputId": "d7127e1c-652b-4776-9168-deab60a909b5"
      },
      "source": [
        "import cv2\n",
        "import matplotlib.pyplot as plt\n",
        "\n",
        "img = np.array(cv2.imread('/content/drive/MyDrive/mfds/Data For Assignment/incomplete1.png'))\n",
        "print(img.shape)\n",
        "plt.imshow(img)"
      ],
      "execution_count": null,
      "outputs": [
        {
          "output_type": "stream",
          "name": "stdout",
          "text": [
            "(29, 55, 3)\n"
          ]
        },
        {
          "output_type": "execute_result",
          "data": {
            "text/plain": [
              "<matplotlib.image.AxesImage at 0x7f6043b63e10>"
            ]
          },
          "metadata": {},
          "execution_count": 20
        },
        {
          "output_type": "display_data",
          "data": {
            "image/png": "[encoded data removed]",
            "text/plain": [
              "<Figure size 432x288 with 1 Axes>"
            ]
          },
          "metadata": {
            "needs_background": "light"
          }
        }
      ]
    },
    {
      "cell_type": "code",
      "metadata": {
        "colab": {
          "base_uri": "https://localhost:8080/",
          "height": 242
        },
        "id": "DSCFyzBqXocC",
        "outputId": "d92f30bf-4a4d-43b0-c230-b0f706098c31"
      },
      "source": [
        "# a = np.array(s)\n",
        "# type(a), a.shape\n",
        "plt.imshow(x.reshape(img.shape[1],img.shape[0]).T)"
      ],
      "execution_count": null,
      "outputs": [
        {
          "output_type": "execute_result",
          "data": {
            "text/plain": [
              "<matplotlib.image.AxesImage at 0x7f6043ad3210>"
            ]
          },
          "metadata": {},
          "execution_count": 21
        },
        {
          "output_type": "display_data",
          "data": {
            "image/png": "[encoded data removed]",
            "text/plain": [
              "<Figure size 432x288 with 1 Axes>"
            ]
          },
          "metadata": {
            "needs_background": "light"
          }
        }
      ]
    },
    {
      "cell_type": "code",
      "metadata": {
        "colab": {
          "base_uri": "https://localhost:8080/",
          "height": 463
        },
        "id": "fWYrmRhhYJf9",
        "outputId": "2370fa2b-bb27-4ac4-960f-998554965177"
      },
      "source": [
        "import numpy as np\n",
        "import matplotlib.pyplot as plt\n",
        "import scipy.fftpack as spfft\n",
        "import scipy.ndimage as spimg\n",
        "import imageio\n",
        "#%% Discrete Cosine Transform \n",
        "def dct2(x):\n",
        "    return spfft.dct(spfft.dct(x.T, norm='ortho', axis=0).T, norm='ortho', axis=0)\n",
        "\n",
        "def idct2(x):\n",
        "    return spfft.idct(spfft.idct(x.T, norm='ortho', axis=0).T, norm='ortho', axis=0)\n",
        "\n",
        "#%% VARIABLES FOR YOU TO CHANGE\n",
        "path_to_your_image=\"/content/drive/MyDrive/mfds/star_b.jpg\"\n",
        "zoom_out=0.05999999 #Fraction of the image you want to keep.\n",
        "corruption=0.7#Fraction of the pixels that you want to discard\n",
        "#%% Get image and create y\n",
        "# read original image and downsize for speed\n",
        "Xorig =imageio.imread(path_to_your_image, pilmode='L') # read in grayscale\n",
        "#Downsize image \n",
        "X = spimg.zoom(Xorig, zoom_out)\n",
        "ny,nx = X.shape\n",
        "\n",
        "# extract small sample of signal\n",
        "corruption=1-corruption\n",
        "k = round(nx * ny * corruption) \n",
        "ri = np.random.choice(nx * ny, k, replace=False) # random sample of indices\n",
        "b = X.T.flat[ri]\n",
        "b = np.expand_dims(b, axis=1)\n",
        "#%% CREATE A inverse and C\n",
        "# *******************************************************************************************\n",
        "\"\"\"This part consumes a lot of memory. Your PC might crash if the images you load are larger than 100 x 100 pixels \"\"\"\n",
        "# create dct matrix operator using kron (memory errors for large ny*nx)\n",
        "Aa = np.kron(\n",
        "    np.float16(spfft.idct(np.identity(nx), norm='ortho', axis=0)),\n",
        "    np.float16(spfft.idct(np.identity(ny), norm='ortho', axis=0))\n",
        "    )\n",
        "A = Aa[ri,:] # same as B times A\n",
        "# *******************************************************************************************\n",
        "# create images of mask (for visualization)\n",
        "mask = np.zeros(X.shape)\n",
        "mask.T.flat[ri] = True\n",
        "mask[mask==0]=False\n",
        "masked=X*mask\n",
        "Xm = 255 * np.ones(X.shape)\n",
        "Xm.T.flat[ri] = X.T.flat[ri]\n",
        "#%%\n",
        "plt.imshow(X)\n",
        "plt.title(\"Original\")\n",
        "plt.show()\n",
        "\n",
        "plt.imshow(masked)\n",
        "plt.title(\"Mask\")\n",
        "plt.show()\n",
        "#%% SAVE MATRICES TO DRIVE\n",
        "import os\n",
        "dir_name=\"Data For Assignment\"\n",
        "try:\n",
        "    os.mkdir(dir_name)\n",
        "except Exception as e:\n",
        "    pass\n",
        "\n",
        "np.save(dir_name+'/C',A)\n",
        "np.save(dir_name+'/A_inv',Aa)\n",
        "np.save(dir_name+'/y',b)\n",
        "plt.imsave(dir_name+'/incomplete1.png',Xm)\n",
        "plt.imsave(dir_name+'/original_with_crop.png',X)"
      ],
      "execution_count": null,
      "outputs": [
        {
          "output_type": "display_data",
          "data": {
            "image/png": "[encoded data removed]",
            "text/plain": [
              "<Figure size 432x288 with 1 Axes>"
            ]
          },
          "metadata": {
            "needs_background": "light"
          }
        },
        {
          "output_type": "display_data",
          "data": {
            "image/png": "[encoded data removed]",
            "text/plain": [
              "<Figure size 432x288 with 1 Axes>"
            ]
          },
          "metadata": {
            "needs_background": "light"
          }
        }
      ]
    },
    {
      "cell_type": "code",
      "metadata": {
        "id": "A2VHThRaZZ5V"
      },
      "source": [
        "import os\n",
        "\n",
        "os.chdir('/content/drive/MyDrive/mfds')"
      ],
      "execution_count": null,
      "outputs": []
    },
    {
      "cell_type": "code",
      "metadata": {
        "colab": {
          "base_uri": "https://localhost:8080/",
          "height": 35
        },
        "id": "3xfQgtqRbYEh",
        "outputId": "3830cc5c-8bb7-4ba3-a785-45c061292342"
      },
      "source": [
        "os.getcwd()"
      ],
      "execution_count": null,
      "outputs": [
        {
          "output_type": "execute_result",
          "data": {
            "application/vnd.google.colaboratory.intrinsic+json": {
              "type": "string"
            },
            "text/plain": [
              "'/content/drive/MyDrive/mfds'"
            ]
          },
          "metadata": {},
          "execution_count": 13
        }
      ]
    },
    {
      "cell_type": "code",
      "metadata": {
        "id": "M7Gxzcr3by48"
      },
      "source": [
        "! rm -r Data\\ For\\ Assignment"
      ],
      "execution_count": null,
      "outputs": []
    },
    {
      "cell_type": "code",
      "metadata": {
        "id": "rCnadmioj5rQ"
      },
      "source": [
        ""
      ],
      "execution_count": null,
      "outputs": []
    }
  ]
}